{
 "cells": [
  {
   "cell_type": "markdown",
   "metadata": {},
   "source": [
    "# Unit 1 - Random Walk\n"
   ]
  },
  {
   "cell_type": "markdown",
   "metadata": {},
   "source": [
    "# Random Walks"
   ]
  },
  {
   "cell_type": "markdown",
   "metadata": {},
   "source": [
    "### #random_walk.py - makes random decisions about which direction the walk should take. The class needs three attributes: one variable to track the number of points in the walk, and two lists to store the x and y coords of each point in the walk."
   ]
  },
  {
   "cell_type": "code",
   "execution_count": 1,
   "metadata": {},
   "outputs": [],
   "source": [
    "#random_walk.py - makes random decisions about which direction the walk should take. The class needs three attributes: one variable to track the number of points in the walk, and two lists to store the x and y coords of each point in the walk.\n",
    "from random import choice\n",
    "\n",
    "\n",
    "class RandomWalk:\n",
    "    \"\"\"A class to generate random walks.\"\"\"\n",
    "\n",
    "    def __init__(self, num_points=5000):\n",
    "        \"\"\"Initialize attributes of a walk.\"\"\"\n",
    "        self.num_points = num_points\n",
    "\n",
    "        # All walks start at (0, 0).\n",
    "        self.x_values = [0]\n",
    "        self.y_values = [0]\n",
    "\n",
    "    def fill_walk(self):\n",
    "        \"\"\"Calculate all the points in the walk.\"\"\"\n",
    "        # Keep taking steps until the walk reaches the desired length.\n",
    "        while len(self.x_values) < self.num_points:\n",
    "\n",
    "            # Decide which direction to go, and how far to go.\n",
    "            x_direction = choice([1, -1])\n",
    "            x_distance = choice([0, 1, 2, 3, 4])\n",
    "            x_step = x_direction * x_distance\n",
    "\n",
    "            y_direction = choice([1, -1])\n",
    "            y_distance = choice([0, 1, 2, 3, 4])\n",
    "            y_step = y_direction * y_distance\n",
    "\n",
    "            # Reject moves that go nowhere.\n",
    "            if x_step == 0 and y_step == 0:\n",
    "                continue\n",
    "\n",
    "            # Calculate the new position.\n",
    "            x = self.x_values[-1] + x_step\n",
    "            y = self.y_values[-1] + y_step\n",
    "\n",
    "            self.x_values.append(x)\n",
    "            self.y_values.append(y)\n",
    "            \n",
    "# This Python notebook is part of Eric Matthes' Python Crash Course book:\n",
    "\n",
    "# Matthes, E. (2022). Python crash course: A hands-on, project-based introduction to programming (3rd ed.). No Starch Press."
   ]
  },
  {
   "cell_type": "code",
   "execution_count": null,
   "metadata": {},
   "outputs": [
    {
     "ename": "NameError",
     "evalue": "name 'self' is not defined",
     "output_type": "error",
     "traceback": [
      "\u001b[1;31m---------------------------------------------------------------------------\u001b[0m",
      "\u001b[1;31mNameError\u001b[0m                                 Traceback (most recent call last)",
      "Cell \u001b[1;32mIn[4], line 3\u001b[0m\n\u001b[0;32m      1\u001b[0m \u001b[38;5;28;01mimport\u001b[39;00m \u001b[38;5;21;01mmatplotlib\u001b[39;00m\u001b[38;5;21;01m.\u001b[39;00m\u001b[38;5;21;01mpyplot\u001b[39;00m \u001b[38;5;28;01mas\u001b[39;00m \u001b[38;5;21;01mplt\u001b[39;00m\n\u001b[1;32m----> 3\u001b[0m \u001b[38;5;28;01mfrom\u001b[39;00m \u001b[38;5;21;01mrandom_walk\u001b[39;00m \u001b[38;5;28;01mimport\u001b[39;00m RandomWalk\n\u001b[0;32m      5\u001b[0m \u001b[38;5;66;03m# Keep making new walks, as long as the program is active.\u001b[39;00m\n\u001b[0;32m      6\u001b[0m \u001b[38;5;28;01mwhile\u001b[39;00m \u001b[38;5;28;01mTrue\u001b[39;00m:\n\u001b[0;32m      7\u001b[0m     \u001b[38;5;66;03m# Make a random walk.\u001b[39;00m\n",
      "File \u001b[1;32mc:\\Users\\xtrab\\Desktop\\Python\\random_walk.py:2\u001b[0m\n\u001b[0;32m      1\u001b[0m \u001b[38;5;28;01mfrom\u001b[39;00m \u001b[38;5;21;01mrandom\u001b[39;00m \u001b[38;5;28;01mimport\u001b[39;00m choice\n\u001b[1;32m----> 2\u001b[0m \u001b[38;5;28;43;01mclass\u001b[39;49;00m\u001b[43m \u001b[49m\u001b[38;5;21;43;01mRandomWalk\u001b[39;49;00m\u001b[43m:\u001b[49m\n\u001b[0;32m      3\u001b[0m \u001b[38;5;250;43m    \u001b[39;49m\u001b[38;5;124;43;03m\"\"\"A class to generate random walks.\"\"\"\u001b[39;49;00m\n\u001b[0;32m      4\u001b[0m \u001b[43m    \u001b[49m\u001b[38;5;28;43;01mdef\u001b[39;49;00m\u001b[43m \u001b[49m\u001b[38;5;21;43m__init__\u001b[39;49m\u001b[43m(\u001b[49m\u001b[38;5;28;43mself\u001b[39;49m\u001b[43m,\u001b[49m\u001b[43m \u001b[49m\u001b[43mnum_points\u001b[49m\u001b[38;5;241;43m=\u001b[39;49m\u001b[38;5;241;43m5000\u001b[39;49m\u001b[43m)\u001b[49m\u001b[43m:\u001b[49m\n",
      "File \u001b[1;32mc:\\Users\\xtrab\\Desktop\\Python\\random_walk.py:15\u001b[0m, in \u001b[0;36mRandomWalk\u001b[1;34m()\u001b[0m\n\u001b[0;32m     12\u001b[0m \u001b[38;5;250m       \u001b[39m\u001b[38;5;124;03m\"\"\"Calculate all the points in the walk.\"\"\"\u001b[39;00m\n\u001b[0;32m     13\u001b[0m \u001b[38;5;66;03m# Keep taking steps until the walk reaches the\u001b[39;00m\n\u001b[1;32m---> 15\u001b[0m    \u001b[38;5;28;01mwhile\u001b[39;00m \u001b[38;5;28mlen\u001b[39m(\u001b[38;5;28;43mself\u001b[39;49m\u001b[38;5;241m.\u001b[39mx_values) \u001b[38;5;241m<\u001b[39m \u001b[38;5;28mself\u001b[39m\u001b[38;5;241m.\u001b[39mnum_points:\n\u001b[0;32m     16\u001b[0m \u001b[38;5;66;03m# Decide which direction to go, and how far to\u001b[39;00m\n\u001b[0;32m     18\u001b[0m        x_direction \u001b[38;5;241m=\u001b[39m choice([\u001b[38;5;241m1\u001b[39m, \u001b[38;5;241m-\u001b[39m\u001b[38;5;241m1\u001b[39m])\n\u001b[0;32m     19\u001b[0m        x_distance \u001b[38;5;241m=\u001b[39m choice([\u001b[38;5;241m0\u001b[39m, \u001b[38;5;241m1\u001b[39m, \u001b[38;5;241m2\u001b[39m, \u001b[38;5;241m3\u001b[39m, \u001b[38;5;241m4\u001b[39m])\n",
      "\u001b[1;31mNameError\u001b[0m: name 'self' is not defined"
     ]
    }
   ],
   "source": [
    "import matplotlib.pyplot as plt\n",
    "\n",
    "from random_walk import RandomWalk\n",
    "\n",
    "# Keep making new walks, as long as the program is active.\n",
    "while True:\n",
    "    # Make a random walk.\n",
    "    rw = RandomWalk(50_000)\n",
    "    rw.fill_walk()\n",
    "\n",
    "    # Plot the points in the walk.\n",
    "    plt.style.use('classic')\n",
    "    fig, ax = plt.subplots()\n",
    "    point_numbers = range(rw.num_points)\n",
    "    ax.scatter(rw.x_values, rw.y_values, c=point_numbers, cmap=plt.cm.Blues,\n",
    "       edgecolors='none', s=1)\n",
    "    ax.set_aspect('equal')\n",
    "\n",
    "    # Emphasize the first and last points.\n",
    "    ax.scatter(0, 0, c='green', edgecolors='none', s=100)\n",
    "    ax.scatter(rw.x_values[-1], rw.y_values[-1], c='red', edgecolors='none',\n",
    "        s=100)\n",
    "\n",
    "    # Remove the axes.\n",
    "    ax.get_xaxis().set_visible(False)\n",
    "    ax.get_yaxis().set_visible(False)\n",
    "    \n",
    "    plt.show()\n",
    "\n",
    "    keep_running = input(\"Make another walk? (y/n): \")\n",
    "    if keep_running == 'n':\n",
    "        break\n",
    "    \n",
    "# This Python notebook is part of Eric Matthes' Python Crash Course book:\n",
    "\n",
    "# Matthes, E. (2022). Python crash course: A hands-on, project-based introduction to programming (3rd ed.). No Starch Press."
   ]
  }
 ],
 "metadata": {
  "kernelspec": {
   "display_name": "Python 3",
   "language": "python",
   "name": "python3"
  },
  "language_info": {
   "codemirror_mode": {
    "name": "ipython",
    "version": 3
   },
   "file_extension": ".py",
   "mimetype": "text/x-python",
   "name": "python",
   "nbconvert_exporter": "python",
   "pygments_lexer": "ipython3",
   "version": "3.12.7"
  }
 },
 "nbformat": 4,
 "nbformat_minor": 2
}
