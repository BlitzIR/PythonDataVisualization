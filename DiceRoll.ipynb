{
 "cells": [
  {
   "cell_type": "code",
   "execution_count": 2,
   "metadata": {
    "colab": {
     "base_uri": "https://localhost:8080/"
    },
    "id": "fyBHj2FUJ1cF",
    "outputId": "8247b15c-b645-4c70-fc54-7f662e0c5a7a"
   },
   "outputs": [
    {
     "name": "stdout",
     "output_type": "stream",
     "text": [
      "Welcome to the Dice Roller!\n",
      "You rolled a 3!\n",
      "Do you want to roll again? (yes/no): yes\n",
      "You rolled a 4!\n",
      "Do you want to roll again? (yes/no): yes\n",
      "You rolled a 3!\n",
      "Do you want to roll again? (yes/no): yes\n",
      "You rolled a 1!\n",
      "Do you want to roll again? (yes/no): no\n",
      "Thanks for playing! Now visualizing your results...\n"
     ]
    }
   ],
   "source": [
    "import random\n",
    "import pandas as pd\n",
    "import plotly.express as px\n",
    "\n",
    "def roll_dice():\n",
    "    return random.randint(1, 6)\n",
    "\n",
    "def play_dice():\n",
    "    rolls = []\n",
    "    rolling = True\n",
    "    print(\"Welcome to the Dice Roller!\")\n",
    "    while rolling:\n",
    "        result = roll_dice()\n",
    "        print(f\"You rolled a {result}!\")\n",
    "        rolls.append(result)\n",
    "        choice = input(\"Do you want to roll again? (yes/no): \").lower()\n",
    "        if choice != 'yes':\n",
    "            rolling = False\n",
    "    print(\"Thanks for playing! Now visualizing your results...\")\n",
    "    return rolls\n",
    "\n",
    "\n",
    "def visualize_rolls(rolls):\n",
    "    df = pd.DataFrame(rolls, columns=['Rolls'])\n",
    "    fig = px.histogram(df, x='Rolls', title='Distribution of Dice Rolls',\n",
    "                       labels={'Rolls': 'Dice Value'},\n",
    "                       nbins=6)\n",
    "    fig.update_layout(xaxis_title='Dice of value', yaxis_title='count', bargap=0.2)\n",
    "    fig.write_html('dice_visual_d6d10.html')\n",
    "\n",
    "# Start the dice roller and collect the results\n",
    "rolls = play_dice()\n",
    "\n",
    "# Visualize the results\n",
    "visualize_rolls(rolls)"
   ]
  },
  {
   "cell_type": "code",
   "execution_count": 1,
   "metadata": {
    "colab": {
     "base_uri": "https://localhost:8080/",
     "height": 1000
    },
    "id": "lzy33XY4-Wjt",
    "outputId": "801a1160-7baf-4007-9647-d3d1df92baf4"
   },
   "outputs": [
    {
     "ename": "NameError",
     "evalue": "name 'roll_dice' is not defined",
     "output_type": "error",
     "traceback": [
      "\u001b[1;31m---------------------------------------------------------------------------\u001b[0m",
      "\u001b[1;31mNameError\u001b[0m                                 Traceback (most recent call last)",
      "Cell \u001b[1;32mIn[1], line 10\u001b[0m\n\u001b[0;32m      8\u001b[0m \u001b[38;5;66;03m# Roll the dice 1000 times\u001b[39;00m\n\u001b[0;32m      9\u001b[0m num_rolls \u001b[38;5;241m=\u001b[39m \u001b[38;5;241m1000\u001b[39m\n\u001b[1;32m---> 10\u001b[0m rolls \u001b[38;5;241m=\u001b[39m \u001b[43mroll_multiple_times\u001b[49m\u001b[43m(\u001b[49m\u001b[43mnum_rolls\u001b[49m\u001b[43m)\u001b[49m\n\u001b[0;32m     12\u001b[0m \u001b[38;5;66;03m# Convert the list of rolls into a Pandas DataFrame\u001b[39;00m\n\u001b[0;32m     13\u001b[0m df \u001b[38;5;241m=\u001b[39m pd\u001b[38;5;241m.\u001b[39mDataFrame(rolls, columns\u001b[38;5;241m=\u001b[39m[\u001b[38;5;124m'\u001b[39m\u001b[38;5;124mDice Rolls\u001b[39m\u001b[38;5;124m'\u001b[39m])\n",
      "Cell \u001b[1;32mIn[1], line 5\u001b[0m, in \u001b[0;36mroll_multiple_times\u001b[1;34m(num_rolls)\u001b[0m\n\u001b[0;32m      3\u001b[0m rolls \u001b[38;5;241m=\u001b[39m []\n\u001b[0;32m      4\u001b[0m \u001b[38;5;28;01mfor\u001b[39;00m _ \u001b[38;5;129;01min\u001b[39;00m \u001b[38;5;28mrange\u001b[39m(num_rolls):\n\u001b[1;32m----> 5\u001b[0m     rolls\u001b[38;5;241m.\u001b[39mappend(\u001b[43mroll_dice\u001b[49m())\n\u001b[0;32m      6\u001b[0m \u001b[38;5;28;01mreturn\u001b[39;00m rolls\n",
      "\u001b[1;31mNameError\u001b[0m: name 'roll_dice' is not defined"
     ]
    }
   ],
   "source": [
    "# Function to roll the dice multiple times and store results\n",
    "def roll_multiple_times(num_rolls):\n",
    "    rolls = []\n",
    "    for _ in range(num_rolls):\n",
    "        rolls.append(roll_dice())\n",
    "    return rolls\n",
    "\n",
    "# Roll the dice 1000 times\n",
    "num_rolls = 1000\n",
    "rolls = roll_multiple_times(num_rolls)\n",
    "\n",
    "# Convert the list of rolls into a Pandas DataFrame\n",
    "df = pd.DataFrame(rolls, columns=['Dice Rolls'])\n",
    "\n",
    "# Create a histogram of the dice rolls\n",
    "fig = px.histogram(df, x='Dice Rolls', title='Dice Roll Frequency',\n",
    "                   labels={'Dice Rolls': 'Dice Value'}, nbins=6)\n",
    "\n",
    "# Show the histogram\n",
    "fig.show()\n",
    "\n",
    "def visualize_rolls(rolls):\n",
    "    df = pd.DataFrame(rolls, columns=['Rolls'])\n",
    "    fig = px.histogram(df, x='Rolls', title='Distribution of Dice Rolls',labels={'Rolls': 'Dice Value'},\n",
    "                       opacity =0.7)\n",
    "    fig.update_layout(xaxis_title='Dice value', yaxis_title='Frequency', bargap=0.2)\n",
    "    fig.show()\n",
    "\n",
    "# Start the dice roller and collect the results\n",
    "rolls = play_dice()\n",
    "\n",
    "# Visualize the results\n",
    "visualize_rolls(rolls)"
   ]
  },
  {
   "cell_type": "code",
   "execution_count": 2,
   "metadata": {
    "colab": {
     "base_uri": "https://localhost:8080/",
     "height": 542
    },
    "id": "RmBEuEHS6sHB",
    "outputId": "324c6a5e-44cf-415f-8a19-2c908e766bf3"
   },
   "outputs": [
    {
     "data": {
      "application/vnd.plotly.v1+json": {
       "config": {
        "plotlyServerURL": "https://plot.ly"
       },
       "data": [
        {
         "alignmentgroup": "True",
         "bingroup": "x",
         "hovertemplate": "variable=0<br>Sum of Dice=%{x}<br>count=%{y}<extra></extra>",
         "legendgroup": "0",
         "marker": {
          "color": "#636efa",
          "opacity": 0.7,
          "pattern": {
           "shape": ""
          }
         },
         "name": "0",
         "nbinsx": 11,
         "offsetgroup": "0",
         "orientation": "v",
         "showlegend": true,
         "type": "histogram",
         "x": [
          6,
          11,
          7,
          4,
          6,
          7,
          3,
          10,
          8,
          8,
          6,
          8,
          6,
          3,
          4,
          2,
          6,
          7,
          2,
          8,
          10,
          4,
          5,
          10,
          9,
          8,
          5,
          11,
          5,
          3,
          2,
          9,
          12,
          7,
          8,
          8,
          11,
          9,
          3,
          11,
          7,
          8,
          8,
          10,
          4,
          8,
          9,
          3,
          4,
          9,
          5,
          5,
          7,
          7,
          9,
          4,
          8,
          5,
          2,
          6,
          5,
          6,
          8,
          3,
          11,
          6,
          7,
          7,
          6,
          6,
          7,
          10,
          7,
          4,
          7,
          2,
          8,
          8,
          9,
          6,
          10,
          4,
          6,
          3,
          10,
          10,
          8,
          9,
          6,
          5,
          9,
          6,
          7,
          7,
          9,
          4,
          6,
          8,
          11,
          10,
          5,
          5,
          8,
          6,
          7,
          7,
          8,
          5,
          6,
          5,
          2,
          10,
          8,
          6,
          7,
          10,
          6,
          7,
          8,
          5,
          7,
          9,
          12,
          10,
          6,
          4,
          7,
          4,
          8,
          5,
          4,
          5,
          12,
          5,
          8,
          8,
          5,
          5,
          7,
          7,
          9,
          5,
          10,
          12,
          4,
          7,
          8,
          6,
          2,
          10,
          8,
          8,
          9,
          3,
          9,
          6,
          4,
          9,
          10,
          5,
          6,
          8,
          9,
          7,
          2,
          3,
          9,
          4,
          5,
          4,
          6,
          6,
          7,
          5,
          8,
          6,
          7,
          3,
          8,
          11,
          9,
          4,
          7,
          6,
          5,
          8,
          10,
          6,
          6,
          12,
          12,
          5,
          6,
          6,
          8,
          2,
          6,
          11,
          9,
          9,
          10,
          7,
          6,
          9,
          6,
          6,
          9,
          5,
          8,
          10,
          4,
          11,
          3,
          7,
          4,
          6,
          6,
          6,
          10,
          8,
          2,
          6,
          3,
          9,
          5,
          8,
          12,
          11,
          10,
          11,
          6,
          5,
          10,
          8,
          2,
          10,
          8,
          9,
          4,
          11,
          9,
          10,
          8,
          9,
          2,
          6,
          7,
          7,
          6,
          6,
          10,
          5,
          8,
          10,
          10,
          4,
          7,
          8,
          4,
          2,
          6,
          11,
          4,
          5,
          6,
          7,
          2,
          6,
          4,
          6,
          8,
          6,
          10,
          6,
          7,
          12,
          9,
          7,
          10,
          9,
          9,
          10,
          7,
          8,
          8,
          4,
          7,
          8,
          6,
          7,
          9,
          9,
          5,
          5,
          8,
          4,
          8,
          6,
          8,
          3,
          7,
          7,
          8,
          8,
          7,
          9,
          8,
          6,
          6,
          8,
          5,
          10,
          11,
          7,
          9,
          7,
          4,
          11,
          12,
          5,
          8,
          3,
          8,
          5,
          9,
          7,
          8,
          4,
          8,
          8,
          7,
          4,
          10,
          9,
          9,
          4,
          7,
          10,
          9,
          9,
          8,
          7,
          11,
          5,
          11,
          9,
          9,
          11,
          10,
          9,
          10,
          9,
          9,
          8,
          5,
          9,
          9,
          6,
          8,
          10,
          7,
          6,
          9,
          5,
          6,
          5,
          6,
          5,
          6,
          4,
          5,
          10,
          8,
          11,
          6,
          6,
          4,
          6,
          10,
          5,
          5,
          8,
          6,
          12,
          8,
          8,
          7,
          6,
          9,
          10,
          7,
          2,
          7,
          12,
          5,
          5,
          7,
          9,
          5,
          8,
          4,
          6,
          7,
          9,
          9,
          6,
          10,
          4,
          6,
          9,
          9,
          5,
          6,
          10,
          2,
          5,
          6,
          8,
          7,
          10,
          5,
          9,
          5,
          9,
          7,
          4,
          8,
          5,
          7,
          2,
          9,
          12,
          9,
          4,
          7,
          3,
          7,
          5,
          4,
          8,
          2,
          10,
          12,
          4,
          7,
          10,
          10,
          5,
          8,
          7,
          11,
          9,
          3,
          12,
          8,
          8,
          10,
          11,
          11,
          3,
          8,
          7,
          10,
          7,
          8,
          12,
          10,
          2,
          7,
          7,
          3,
          9,
          7,
          6,
          7,
          10,
          9,
          12,
          9,
          10,
          12,
          8,
          6,
          8,
          5,
          12,
          10,
          9,
          10,
          10,
          7,
          4,
          6,
          8,
          2,
          9,
          7,
          10,
          11,
          5,
          7,
          9,
          6,
          5,
          8,
          7,
          9,
          9,
          6,
          2,
          7,
          12,
          9,
          11,
          6,
          3,
          8,
          12,
          5,
          9,
          10,
          6,
          7,
          9,
          3,
          6,
          2,
          8,
          6,
          10,
          7,
          6,
          5,
          3,
          4,
          3,
          6,
          7,
          5,
          7,
          5,
          11,
          4,
          3,
          6,
          6,
          8,
          9,
          10,
          3,
          5,
          7,
          8,
          8,
          3,
          10,
          7,
          11,
          5,
          5,
          4,
          8,
          2,
          8,
          7,
          7,
          3,
          8,
          7,
          8,
          3,
          8,
          8,
          7,
          8,
          7,
          9,
          9,
          7,
          9,
          7,
          10,
          6,
          6,
          5,
          5,
          2,
          5,
          11,
          8,
          8,
          10,
          7,
          2,
          5,
          7,
          8,
          6,
          4,
          7,
          7,
          5,
          6,
          5,
          8,
          9,
          5,
          7,
          2,
          12,
          6,
          4,
          9,
          7,
          3,
          9,
          5,
          6,
          8,
          10,
          6,
          2,
          6,
          6,
          3,
          11,
          5,
          12,
          4,
          11,
          9,
          9,
          3,
          12,
          10,
          9,
          11,
          6,
          9,
          11,
          11,
          7,
          7,
          6,
          10,
          8,
          8,
          3,
          7,
          6,
          6,
          7,
          7,
          6,
          6,
          10,
          5,
          5,
          10,
          8,
          8,
          8,
          10,
          11,
          10,
          7,
          5,
          7,
          6,
          7,
          11,
          11,
          8,
          8,
          7,
          4,
          10,
          5,
          10,
          8,
          7,
          6,
          5,
          8,
          6,
          2,
          4,
          6,
          2,
          6,
          3,
          6,
          11,
          5,
          10,
          4,
          7,
          6,
          7,
          7,
          7,
          3,
          5,
          7,
          5,
          4,
          9,
          9,
          5,
          3,
          4,
          6,
          8,
          6,
          4,
          9,
          10,
          12,
          9,
          9,
          6,
          8,
          7,
          5,
          4,
          3,
          8,
          7,
          10,
          10,
          5,
          2,
          10,
          9,
          12,
          5,
          7,
          8,
          7,
          3,
          3,
          7,
          7,
          7,
          8,
          7,
          7,
          3,
          11,
          10,
          8,
          7,
          7,
          3,
          4,
          2,
          6,
          5,
          9,
          6,
          5,
          7,
          11,
          9,
          11,
          9,
          10,
          7,
          3,
          4,
          10,
          3,
          11,
          5,
          4,
          7,
          3,
          11,
          12,
          7,
          4,
          6,
          4,
          4,
          8,
          6,
          8,
          7,
          5,
          5,
          6,
          6,
          6,
          7,
          2,
          11,
          10,
          8,
          7,
          8,
          5,
          9,
          9,
          2,
          5,
          10,
          6,
          4,
          4,
          8,
          2,
          7,
          7,
          6,
          5,
          7,
          4,
          4,
          9,
          10,
          7,
          7,
          4,
          8,
          11,
          10,
          6,
          9,
          10,
          9,
          6,
          8,
          9,
          8,
          8,
          3,
          5,
          3,
          9,
          8,
          6,
          8,
          5,
          6,
          4,
          5,
          8,
          8,
          12,
          7,
          7,
          3,
          9,
          6,
          6,
          11,
          8,
          5,
          6,
          9,
          6,
          7,
          6,
          10,
          4,
          8,
          7,
          10,
          8,
          8,
          4,
          11,
          10,
          9,
          6,
          7,
          9,
          9,
          8,
          6,
          2,
          9,
          10,
          2,
          8,
          3,
          6,
          3,
          4,
          9,
          5,
          5,
          6,
          11,
          7,
          5,
          5,
          3,
          3,
          10,
          9,
          11,
          9,
          9,
          9,
          2,
          8,
          8,
          11,
          10,
          5,
          7,
          4,
          3,
          8,
          4,
          7,
          6,
          5,
          10,
          11,
          10,
          8,
          9,
          8,
          4,
          11,
          9,
          8,
          6,
          4,
          5,
          8,
          4,
          7,
          6,
          3,
          6,
          8,
          8,
          10,
          9,
          6,
          11,
          8,
          3,
          10,
          8,
          6,
          6,
          4,
          5,
          10,
          9,
          10,
          6,
          6,
          6,
          11,
          10,
          3,
          9,
          7,
          11,
          5,
          11,
          8,
          8,
          5,
          10,
          11,
          6,
          7,
          4,
          8,
          7,
          4,
          6,
          7,
          8,
          8,
          9,
          7,
          6,
          5,
          7,
          8,
          7,
          4,
          4,
          7,
          2,
          9,
          4,
          11,
          9,
          3,
          6,
          12,
          8
         ],
         "xaxis": "x",
         "yaxis": "y"
        }
       ],
       "layout": {
        "bargap": 0.2,
        "barmode": "relative",
        "legend": {
         "title": {
          "text": "variable"
         },
         "tracegroupgap": 0
        },
        "template": {
         "data": {
          "bar": [
           {
            "error_x": {
             "color": "#2a3f5f"
            },
            "error_y": {
             "color": "#2a3f5f"
            },
            "marker": {
             "line": {
              "color": "#E5ECF6",
              "width": 0.5
             },
             "pattern": {
              "fillmode": "overlay",
              "size": 10,
              "solidity": 0.2
             }
            },
            "type": "bar"
           }
          ],
          "barpolar": [
           {
            "marker": {
             "line": {
              "color": "#E5ECF6",
              "width": 0.5
             },
             "pattern": {
              "fillmode": "overlay",
              "size": 10,
              "solidity": 0.2
             }
            },
            "type": "barpolar"
           }
          ],
          "carpet": [
           {
            "aaxis": {
             "endlinecolor": "#2a3f5f",
             "gridcolor": "white",
             "linecolor": "white",
             "minorgridcolor": "white",
             "startlinecolor": "#2a3f5f"
            },
            "baxis": {
             "endlinecolor": "#2a3f5f",
             "gridcolor": "white",
             "linecolor": "white",
             "minorgridcolor": "white",
             "startlinecolor": "#2a3f5f"
            },
            "type": "carpet"
           }
          ],
          "choropleth": [
           {
            "colorbar": {
             "outlinewidth": 0,
             "ticks": ""
            },
            "type": "choropleth"
           }
          ],
          "contour": [
           {
            "colorbar": {
             "outlinewidth": 0,
             "ticks": ""
            },
            "colorscale": [
             [
              0,
              "#0d0887"
             ],
             [
              0.1111111111111111,
              "#46039f"
             ],
             [
              0.2222222222222222,
              "#7201a8"
             ],
             [
              0.3333333333333333,
              "#9c179e"
             ],
             [
              0.4444444444444444,
              "#bd3786"
             ],
             [
              0.5555555555555556,
              "#d8576b"
             ],
             [
              0.6666666666666666,
              "#ed7953"
             ],
             [
              0.7777777777777778,
              "#fb9f3a"
             ],
             [
              0.8888888888888888,
              "#fdca26"
             ],
             [
              1,
              "#f0f921"
             ]
            ],
            "type": "contour"
           }
          ],
          "contourcarpet": [
           {
            "colorbar": {
             "outlinewidth": 0,
             "ticks": ""
            },
            "type": "contourcarpet"
           }
          ],
          "heatmap": [
           {
            "colorbar": {
             "outlinewidth": 0,
             "ticks": ""
            },
            "colorscale": [
             [
              0,
              "#0d0887"
             ],
             [
              0.1111111111111111,
              "#46039f"
             ],
             [
              0.2222222222222222,
              "#7201a8"
             ],
             [
              0.3333333333333333,
              "#9c179e"
             ],
             [
              0.4444444444444444,
              "#bd3786"
             ],
             [
              0.5555555555555556,
              "#d8576b"
             ],
             [
              0.6666666666666666,
              "#ed7953"
             ],
             [
              0.7777777777777778,
              "#fb9f3a"
             ],
             [
              0.8888888888888888,
              "#fdca26"
             ],
             [
              1,
              "#f0f921"
             ]
            ],
            "type": "heatmap"
           }
          ],
          "heatmapgl": [
           {
            "colorbar": {
             "outlinewidth": 0,
             "ticks": ""
            },
            "colorscale": [
             [
              0,
              "#0d0887"
             ],
             [
              0.1111111111111111,
              "#46039f"
             ],
             [
              0.2222222222222222,
              "#7201a8"
             ],
             [
              0.3333333333333333,
              "#9c179e"
             ],
             [
              0.4444444444444444,
              "#bd3786"
             ],
             [
              0.5555555555555556,
              "#d8576b"
             ],
             [
              0.6666666666666666,
              "#ed7953"
             ],
             [
              0.7777777777777778,
              "#fb9f3a"
             ],
             [
              0.8888888888888888,
              "#fdca26"
             ],
             [
              1,
              "#f0f921"
             ]
            ],
            "type": "heatmapgl"
           }
          ],
          "histogram": [
           {
            "marker": {
             "pattern": {
              "fillmode": "overlay",
              "size": 10,
              "solidity": 0.2
             }
            },
            "type": "histogram"
           }
          ],
          "histogram2d": [
           {
            "colorbar": {
             "outlinewidth": 0,
             "ticks": ""
            },
            "colorscale": [
             [
              0,
              "#0d0887"
             ],
             [
              0.1111111111111111,
              "#46039f"
             ],
             [
              0.2222222222222222,
              "#7201a8"
             ],
             [
              0.3333333333333333,
              "#9c179e"
             ],
             [
              0.4444444444444444,
              "#bd3786"
             ],
             [
              0.5555555555555556,
              "#d8576b"
             ],
             [
              0.6666666666666666,
              "#ed7953"
             ],
             [
              0.7777777777777778,
              "#fb9f3a"
             ],
             [
              0.8888888888888888,
              "#fdca26"
             ],
             [
              1,
              "#f0f921"
             ]
            ],
            "type": "histogram2d"
           }
          ],
          "histogram2dcontour": [
           {
            "colorbar": {
             "outlinewidth": 0,
             "ticks": ""
            },
            "colorscale": [
             [
              0,
              "#0d0887"
             ],
             [
              0.1111111111111111,
              "#46039f"
             ],
             [
              0.2222222222222222,
              "#7201a8"
             ],
             [
              0.3333333333333333,
              "#9c179e"
             ],
             [
              0.4444444444444444,
              "#bd3786"
             ],
             [
              0.5555555555555556,
              "#d8576b"
             ],
             [
              0.6666666666666666,
              "#ed7953"
             ],
             [
              0.7777777777777778,
              "#fb9f3a"
             ],
             [
              0.8888888888888888,
              "#fdca26"
             ],
             [
              1,
              "#f0f921"
             ]
            ],
            "type": "histogram2dcontour"
           }
          ],
          "mesh3d": [
           {
            "colorbar": {
             "outlinewidth": 0,
             "ticks": ""
            },
            "type": "mesh3d"
           }
          ],
          "parcoords": [
           {
            "line": {
             "colorbar": {
              "outlinewidth": 0,
              "ticks": ""
             }
            },
            "type": "parcoords"
           }
          ],
          "pie": [
           {
            "automargin": true,
            "type": "pie"
           }
          ],
          "scatter": [
           {
            "fillpattern": {
             "fillmode": "overlay",
             "size": 10,
             "solidity": 0.2
            },
            "type": "scatter"
           }
          ],
          "scatter3d": [
           {
            "line": {
             "colorbar": {
              "outlinewidth": 0,
              "ticks": ""
             }
            },
            "marker": {
             "colorbar": {
              "outlinewidth": 0,
              "ticks": ""
             }
            },
            "type": "scatter3d"
           }
          ],
          "scattercarpet": [
           {
            "marker": {
             "colorbar": {
              "outlinewidth": 0,
              "ticks": ""
             }
            },
            "type": "scattercarpet"
           }
          ],
          "scattergeo": [
           {
            "marker": {
             "colorbar": {
              "outlinewidth": 0,
              "ticks": ""
             }
            },
            "type": "scattergeo"
           }
          ],
          "scattergl": [
           {
            "marker": {
             "colorbar": {
              "outlinewidth": 0,
              "ticks": ""
             }
            },
            "type": "scattergl"
           }
          ],
          "scattermapbox": [
           {
            "marker": {
             "colorbar": {
              "outlinewidth": 0,
              "ticks": ""
             }
            },
            "type": "scattermapbox"
           }
          ],
          "scatterpolar": [
           {
            "marker": {
             "colorbar": {
              "outlinewidth": 0,
              "ticks": ""
             }
            },
            "type": "scatterpolar"
           }
          ],
          "scatterpolargl": [
           {
            "marker": {
             "colorbar": {
              "outlinewidth": 0,
              "ticks": ""
             }
            },
            "type": "scatterpolargl"
           }
          ],
          "scatterternary": [
           {
            "marker": {
             "colorbar": {
              "outlinewidth": 0,
              "ticks": ""
             }
            },
            "type": "scatterternary"
           }
          ],
          "surface": [
           {
            "colorbar": {
             "outlinewidth": 0,
             "ticks": ""
            },
            "colorscale": [
             [
              0,
              "#0d0887"
             ],
             [
              0.1111111111111111,
              "#46039f"
             ],
             [
              0.2222222222222222,
              "#7201a8"
             ],
             [
              0.3333333333333333,
              "#9c179e"
             ],
             [
              0.4444444444444444,
              "#bd3786"
             ],
             [
              0.5555555555555556,
              "#d8576b"
             ],
             [
              0.6666666666666666,
              "#ed7953"
             ],
             [
              0.7777777777777778,
              "#fb9f3a"
             ],
             [
              0.8888888888888888,
              "#fdca26"
             ],
             [
              1,
              "#f0f921"
             ]
            ],
            "type": "surface"
           }
          ],
          "table": [
           {
            "cells": {
             "fill": {
              "color": "#EBF0F8"
             },
             "line": {
              "color": "white"
             }
            },
            "header": {
             "fill": {
              "color": "#C8D4E3"
             },
             "line": {
              "color": "white"
             }
            },
            "type": "table"
           }
          ]
         },
         "layout": {
          "annotationdefaults": {
           "arrowcolor": "#2a3f5f",
           "arrowhead": 0,
           "arrowwidth": 1
          },
          "autotypenumbers": "strict",
          "coloraxis": {
           "colorbar": {
            "outlinewidth": 0,
            "ticks": ""
           }
          },
          "colorscale": {
           "diverging": [
            [
             0,
             "#8e0152"
            ],
            [
             0.1,
             "#c51b7d"
            ],
            [
             0.2,
             "#de77ae"
            ],
            [
             0.3,
             "#f1b6da"
            ],
            [
             0.4,
             "#fde0ef"
            ],
            [
             0.5,
             "#f7f7f7"
            ],
            [
             0.6,
             "#e6f5d0"
            ],
            [
             0.7,
             "#b8e186"
            ],
            [
             0.8,
             "#7fbc41"
            ],
            [
             0.9,
             "#4d9221"
            ],
            [
             1,
             "#276419"
            ]
           ],
           "sequential": [
            [
             0,
             "#0d0887"
            ],
            [
             0.1111111111111111,
             "#46039f"
            ],
            [
             0.2222222222222222,
             "#7201a8"
            ],
            [
             0.3333333333333333,
             "#9c179e"
            ],
            [
             0.4444444444444444,
             "#bd3786"
            ],
            [
             0.5555555555555556,
             "#d8576b"
            ],
            [
             0.6666666666666666,
             "#ed7953"
            ],
            [
             0.7777777777777778,
             "#fb9f3a"
            ],
            [
             0.8888888888888888,
             "#fdca26"
            ],
            [
             1,
             "#f0f921"
            ]
           ],
           "sequentialminus": [
            [
             0,
             "#0d0887"
            ],
            [
             0.1111111111111111,
             "#46039f"
            ],
            [
             0.2222222222222222,
             "#7201a8"
            ],
            [
             0.3333333333333333,
             "#9c179e"
            ],
            [
             0.4444444444444444,
             "#bd3786"
            ],
            [
             0.5555555555555556,
             "#d8576b"
            ],
            [
             0.6666666666666666,
             "#ed7953"
            ],
            [
             0.7777777777777778,
             "#fb9f3a"
            ],
            [
             0.8888888888888888,
             "#fdca26"
            ],
            [
             1,
             "#f0f921"
            ]
           ]
          },
          "colorway": [
           "#636efa",
           "#EF553B",
           "#00cc96",
           "#ab63fa",
           "#FFA15A",
           "#19d3f3",
           "#FF6692",
           "#B6E880",
           "#FF97FF",
           "#FECB52"
          ],
          "font": {
           "color": "#2a3f5f"
          },
          "geo": {
           "bgcolor": "white",
           "lakecolor": "white",
           "landcolor": "#E5ECF6",
           "showlakes": true,
           "showland": true,
           "subunitcolor": "white"
          },
          "hoverlabel": {
           "align": "left"
          },
          "hovermode": "closest",
          "mapbox": {
           "style": "light"
          },
          "paper_bgcolor": "white",
          "plot_bgcolor": "#E5ECF6",
          "polar": {
           "angularaxis": {
            "gridcolor": "white",
            "linecolor": "white",
            "ticks": ""
           },
           "bgcolor": "#E5ECF6",
           "radialaxis": {
            "gridcolor": "white",
            "linecolor": "white",
            "ticks": ""
           }
          },
          "scene": {
           "xaxis": {
            "backgroundcolor": "#E5ECF6",
            "gridcolor": "white",
            "gridwidth": 2,
            "linecolor": "white",
            "showbackground": true,
            "ticks": "",
            "zerolinecolor": "white"
           },
           "yaxis": {
            "backgroundcolor": "#E5ECF6",
            "gridcolor": "white",
            "gridwidth": 2,
            "linecolor": "white",
            "showbackground": true,
            "ticks": "",
            "zerolinecolor": "white"
           },
           "zaxis": {
            "backgroundcolor": "#E5ECF6",
            "gridcolor": "white",
            "gridwidth": 2,
            "linecolor": "white",
            "showbackground": true,
            "ticks": "",
            "zerolinecolor": "white"
           }
          },
          "shapedefaults": {
           "line": {
            "color": "#2a3f5f"
           }
          },
          "ternary": {
           "aaxis": {
            "gridcolor": "white",
            "linecolor": "white",
            "ticks": ""
           },
           "baxis": {
            "gridcolor": "white",
            "linecolor": "white",
            "ticks": ""
           },
           "bgcolor": "#E5ECF6",
           "caxis": {
            "gridcolor": "white",
            "linecolor": "white",
            "ticks": ""
           }
          },
          "title": {
           "x": 0.05
          },
          "xaxis": {
           "automargin": true,
           "gridcolor": "white",
           "linecolor": "white",
           "ticks": "",
           "title": {
            "standoff": 15
           },
           "zerolinecolor": "white",
           "zerolinewidth": 2
          },
          "yaxis": {
           "automargin": true,
           "gridcolor": "white",
           "linecolor": "white",
           "ticks": "",
           "title": {
            "standoff": 15
           },
           "zerolinecolor": "white",
           "zerolinewidth": 2
          }
         }
        },
        "title": {
         "text": "Distribution of Two Dice Rolls (1000 Rolls)"
        },
        "xaxis": {
         "anchor": "y",
         "domain": [
          0,
          1
         ],
         "title": {
          "text": "Sum of Dice"
         }
        },
        "yaxis": {
         "anchor": "x",
         "domain": [
          0,
          1
         ],
         "title": {
          "text": "Frequency"
         }
        }
       }
      }
     },
     "metadata": {},
     "output_type": "display_data"
    }
   ],
   "source": [
    "import random\n",
    "import plotly.express as px\n",
    "\n",
    "def roll_two_dice():\n",
    "    die1 = random.randint(1, 6)\n",
    "    die2 = random.randint(1, 6)\n",
    "    return die1 + die2\n",
    "\n",
    "# Roll the dice 1000 times and store the sums\n",
    "rolls = [roll_two_dice() for _ in range(1000)]\n",
    "\n",
    "# Plot the histogram using plotly\n",
    "fig = px.histogram(rolls, nbins=11, title=\"Distribution of Two Dice Rolls (1000 Rolls)\", labels={'value':'Sum of Dice'}, opacity=0.7)\n",
    "fig.update_layout(xaxis_title='Sum of Dice', yaxis_title='Frequency', bargap=0.2)\n",
    "fig.show()\n"
   ]
  },
  {
   "cell_type": "code",
   "execution_count": null,
   "metadata": {
    "colab": {
     "base_uri": "https://localhost:8080/",
     "height": 542
    },
    "id": "sfCkJoMCytsd",
    "outputId": "2f5d9b6d-f65a-4983-c6e7-bd07201f6a7b"
   },
   "outputs": [
    {
     "data": {
      "text/html": [
       "<html>\n",
       "<head><meta charset=\"utf-8\" /></head>\n",
       "<body>\n",
       "    <div>            <script src=\"https://cdnjs.cloudflare.com/ajax/libs/mathjax/2.7.5/MathJax.js?config=TeX-AMS-MML_SVG\"></script><script type=\"text/javascript\">if (window.MathJax && window.MathJax.Hub && window.MathJax.Hub.Config) {window.MathJax.Hub.Config({SVG: {font: \"STIX-Web\"}});}</script>                <script type=\"text/javascript\">window.PlotlyConfig = {MathJaxConfig: 'local'};</script>\n",
       "        <script charset=\"utf-8\" src=\"https://cdn.plot.ly/plotly-2.35.2.min.js\"></script>                <div id=\"ea4c5f4a-f09d-463e-a920-c207b91c4223\" class=\"plotly-graph-div\" style=\"height:525px; width:100%;\"></div>            <script type=\"text/javascript\">                                    window.PLOTLYENV=window.PLOTLYENV || {};                                    if (document.getElementById(\"ea4c5f4a-f09d-463e-a920-c207b91c4223\")) {                    Plotly.newPlot(                        \"ea4c5f4a-f09d-463e-a920-c207b91c4223\",                        [{\"alignmentgroup\":\"True\",\"bingroup\":\"x\",\"hovertemplate\":\"Dice Value=%{x}\\u003cbr\\u003ecount=%{y}\\u003cextra\\u003e\\u003c\\u002fextra\\u003e\",\"legendgroup\":\"\",\"marker\":{\"color\":\"#636efa\",\"pattern\":{\"shape\":\"\"}},\"name\":\"\",\"nbinsx\":6,\"offsetgroup\":\"\",\"orientation\":\"v\",\"showlegend\":false,\"x\":[6,3,2,1,4,2,5,4,5,2,6,1,4,1,1,2,1,3,6,5,3,4,6,4,5,6,5,1,1,4,3,1,6,5,3,6,1,1,3,5,5,5,6,2,3,2,6,3,5,3,6,3,4,1,1,5,3,5,3,5,2,1,6,1,2,6,4,4,5,2,4,5,5,1,5,2,3,6,1,6,4,4,2,4,6,5,5,1,3,3,6,1,2,4,5,2,4,4,6,5],\"xaxis\":\"x\",\"yaxis\":\"y\",\"type\":\"histogram\"}],                        {\"template\":{\"data\":{\"histogram2dcontour\":[{\"type\":\"histogram2dcontour\",\"colorbar\":{\"outlinewidth\":0,\"ticks\":\"\"},\"colorscale\":[[0.0,\"#0d0887\"],[0.1111111111111111,\"#46039f\"],[0.2222222222222222,\"#7201a8\"],[0.3333333333333333,\"#9c179e\"],[0.4444444444444444,\"#bd3786\"],[0.5555555555555556,\"#d8576b\"],[0.6666666666666666,\"#ed7953\"],[0.7777777777777778,\"#fb9f3a\"],[0.8888888888888888,\"#fdca26\"],[1.0,\"#f0f921\"]]}],\"choropleth\":[{\"type\":\"choropleth\",\"colorbar\":{\"outlinewidth\":0,\"ticks\":\"\"}}],\"histogram2d\":[{\"type\":\"histogram2d\",\"colorbar\":{\"outlinewidth\":0,\"ticks\":\"\"},\"colorscale\":[[0.0,\"#0d0887\"],[0.1111111111111111,\"#46039f\"],[0.2222222222222222,\"#7201a8\"],[0.3333333333333333,\"#9c179e\"],[0.4444444444444444,\"#bd3786\"],[0.5555555555555556,\"#d8576b\"],[0.6666666666666666,\"#ed7953\"],[0.7777777777777778,\"#fb9f3a\"],[0.8888888888888888,\"#fdca26\"],[1.0,\"#f0f921\"]]}],\"heatmap\":[{\"type\":\"heatmap\",\"colorbar\":{\"outlinewidth\":0,\"ticks\":\"\"},\"colorscale\":[[0.0,\"#0d0887\"],[0.1111111111111111,\"#46039f\"],[0.2222222222222222,\"#7201a8\"],[0.3333333333333333,\"#9c179e\"],[0.4444444444444444,\"#bd3786\"],[0.5555555555555556,\"#d8576b\"],[0.6666666666666666,\"#ed7953\"],[0.7777777777777778,\"#fb9f3a\"],[0.8888888888888888,\"#fdca26\"],[1.0,\"#f0f921\"]]}],\"heatmapgl\":[{\"type\":\"heatmapgl\",\"colorbar\":{\"outlinewidth\":0,\"ticks\":\"\"},\"colorscale\":[[0.0,\"#0d0887\"],[0.1111111111111111,\"#46039f\"],[0.2222222222222222,\"#7201a8\"],[0.3333333333333333,\"#9c179e\"],[0.4444444444444444,\"#bd3786\"],[0.5555555555555556,\"#d8576b\"],[0.6666666666666666,\"#ed7953\"],[0.7777777777777778,\"#fb9f3a\"],[0.8888888888888888,\"#fdca26\"],[1.0,\"#f0f921\"]]}],\"contourcarpet\":[{\"type\":\"contourcarpet\",\"colorbar\":{\"outlinewidth\":0,\"ticks\":\"\"}}],\"contour\":[{\"type\":\"contour\",\"colorbar\":{\"outlinewidth\":0,\"ticks\":\"\"},\"colorscale\":[[0.0,\"#0d0887\"],[0.1111111111111111,\"#46039f\"],[0.2222222222222222,\"#7201a8\"],[0.3333333333333333,\"#9c179e\"],[0.4444444444444444,\"#bd3786\"],[0.5555555555555556,\"#d8576b\"],[0.6666666666666666,\"#ed7953\"],[0.7777777777777778,\"#fb9f3a\"],[0.8888888888888888,\"#fdca26\"],[1.0,\"#f0f921\"]]}],\"surface\":[{\"type\":\"surface\",\"colorbar\":{\"outlinewidth\":0,\"ticks\":\"\"},\"colorscale\":[[0.0,\"#0d0887\"],[0.1111111111111111,\"#46039f\"],[0.2222222222222222,\"#7201a8\"],[0.3333333333333333,\"#9c179e\"],[0.4444444444444444,\"#bd3786\"],[0.5555555555555556,\"#d8576b\"],[0.6666666666666666,\"#ed7953\"],[0.7777777777777778,\"#fb9f3a\"],[0.8888888888888888,\"#fdca26\"],[1.0,\"#f0f921\"]]}],\"mesh3d\":[{\"type\":\"mesh3d\",\"colorbar\":{\"outlinewidth\":0,\"ticks\":\"\"}}],\"scatter\":[{\"fillpattern\":{\"fillmode\":\"overlay\",\"size\":10,\"solidity\":0.2},\"type\":\"scatter\"}],\"parcoords\":[{\"type\":\"parcoords\",\"line\":{\"colorbar\":{\"outlinewidth\":0,\"ticks\":\"\"}}}],\"scatterpolargl\":[{\"type\":\"scatterpolargl\",\"marker\":{\"colorbar\":{\"outlinewidth\":0,\"ticks\":\"\"}}}],\"bar\":[{\"error_x\":{\"color\":\"#2a3f5f\"},\"error_y\":{\"color\":\"#2a3f5f\"},\"marker\":{\"line\":{\"color\":\"#E5ECF6\",\"width\":0.5},\"pattern\":{\"fillmode\":\"overlay\",\"size\":10,\"solidity\":0.2}},\"type\":\"bar\"}],\"scattergeo\":[{\"type\":\"scattergeo\",\"marker\":{\"colorbar\":{\"outlinewidth\":0,\"ticks\":\"\"}}}],\"scatterpolar\":[{\"type\":\"scatterpolar\",\"marker\":{\"colorbar\":{\"outlinewidth\":0,\"ticks\":\"\"}}}],\"histogram\":[{\"marker\":{\"pattern\":{\"fillmode\":\"overlay\",\"size\":10,\"solidity\":0.2}},\"type\":\"histogram\"}],\"scattergl\":[{\"type\":\"scattergl\",\"marker\":{\"colorbar\":{\"outlinewidth\":0,\"ticks\":\"\"}}}],\"scatter3d\":[{\"type\":\"scatter3d\",\"line\":{\"colorbar\":{\"outlinewidth\":0,\"ticks\":\"\"}},\"marker\":{\"colorbar\":{\"outlinewidth\":0,\"ticks\":\"\"}}}],\"scattermapbox\":[{\"type\":\"scattermapbox\",\"marker\":{\"colorbar\":{\"outlinewidth\":0,\"ticks\":\"\"}}}],\"scatterternary\":[{\"type\":\"scatterternary\",\"marker\":{\"colorbar\":{\"outlinewidth\":0,\"ticks\":\"\"}}}],\"scattercarpet\":[{\"type\":\"scattercarpet\",\"marker\":{\"colorbar\":{\"outlinewidth\":0,\"ticks\":\"\"}}}],\"carpet\":[{\"aaxis\":{\"endlinecolor\":\"#2a3f5f\",\"gridcolor\":\"white\",\"linecolor\":\"white\",\"minorgridcolor\":\"white\",\"startlinecolor\":\"#2a3f5f\"},\"baxis\":{\"endlinecolor\":\"#2a3f5f\",\"gridcolor\":\"white\",\"linecolor\":\"white\",\"minorgridcolor\":\"white\",\"startlinecolor\":\"#2a3f5f\"},\"type\":\"carpet\"}],\"table\":[{\"cells\":{\"fill\":{\"color\":\"#EBF0F8\"},\"line\":{\"color\":\"white\"}},\"header\":{\"fill\":{\"color\":\"#C8D4E3\"},\"line\":{\"color\":\"white\"}},\"type\":\"table\"}],\"barpolar\":[{\"marker\":{\"line\":{\"color\":\"#E5ECF6\",\"width\":0.5},\"pattern\":{\"fillmode\":\"overlay\",\"size\":10,\"solidity\":0.2}},\"type\":\"barpolar\"}],\"pie\":[{\"automargin\":true,\"type\":\"pie\"}]},\"layout\":{\"autotypenumbers\":\"strict\",\"colorway\":[\"#636efa\",\"#EF553B\",\"#00cc96\",\"#ab63fa\",\"#FFA15A\",\"#19d3f3\",\"#FF6692\",\"#B6E880\",\"#FF97FF\",\"#FECB52\"],\"font\":{\"color\":\"#2a3f5f\"},\"hovermode\":\"closest\",\"hoverlabel\":{\"align\":\"left\"},\"paper_bgcolor\":\"white\",\"plot_bgcolor\":\"#E5ECF6\",\"polar\":{\"bgcolor\":\"#E5ECF6\",\"angularaxis\":{\"gridcolor\":\"white\",\"linecolor\":\"white\",\"ticks\":\"\"},\"radialaxis\":{\"gridcolor\":\"white\",\"linecolor\":\"white\",\"ticks\":\"\"}},\"ternary\":{\"bgcolor\":\"#E5ECF6\",\"aaxis\":{\"gridcolor\":\"white\",\"linecolor\":\"white\",\"ticks\":\"\"},\"baxis\":{\"gridcolor\":\"white\",\"linecolor\":\"white\",\"ticks\":\"\"},\"caxis\":{\"gridcolor\":\"white\",\"linecolor\":\"white\",\"ticks\":\"\"}},\"coloraxis\":{\"colorbar\":{\"outlinewidth\":0,\"ticks\":\"\"}},\"colorscale\":{\"sequential\":[[0.0,\"#0d0887\"],[0.1111111111111111,\"#46039f\"],[0.2222222222222222,\"#7201a8\"],[0.3333333333333333,\"#9c179e\"],[0.4444444444444444,\"#bd3786\"],[0.5555555555555556,\"#d8576b\"],[0.6666666666666666,\"#ed7953\"],[0.7777777777777778,\"#fb9f3a\"],[0.8888888888888888,\"#fdca26\"],[1.0,\"#f0f921\"]],\"sequentialminus\":[[0.0,\"#0d0887\"],[0.1111111111111111,\"#46039f\"],[0.2222222222222222,\"#7201a8\"],[0.3333333333333333,\"#9c179e\"],[0.4444444444444444,\"#bd3786\"],[0.5555555555555556,\"#d8576b\"],[0.6666666666666666,\"#ed7953\"],[0.7777777777777778,\"#fb9f3a\"],[0.8888888888888888,\"#fdca26\"],[1.0,\"#f0f921\"]],\"diverging\":[[0,\"#8e0152\"],[0.1,\"#c51b7d\"],[0.2,\"#de77ae\"],[0.3,\"#f1b6da\"],[0.4,\"#fde0ef\"],[0.5,\"#f7f7f7\"],[0.6,\"#e6f5d0\"],[0.7,\"#b8e186\"],[0.8,\"#7fbc41\"],[0.9,\"#4d9221\"],[1,\"#276419\"]]},\"xaxis\":{\"gridcolor\":\"white\",\"linecolor\":\"white\",\"ticks\":\"\",\"title\":{\"standoff\":15},\"zerolinecolor\":\"white\",\"automargin\":true,\"zerolinewidth\":2},\"yaxis\":{\"gridcolor\":\"white\",\"linecolor\":\"white\",\"ticks\":\"\",\"title\":{\"standoff\":15},\"zerolinecolor\":\"white\",\"automargin\":true,\"zerolinewidth\":2},\"scene\":{\"xaxis\":{\"backgroundcolor\":\"#E5ECF6\",\"gridcolor\":\"white\",\"linecolor\":\"white\",\"showbackground\":true,\"ticks\":\"\",\"zerolinecolor\":\"white\",\"gridwidth\":2},\"yaxis\":{\"backgroundcolor\":\"#E5ECF6\",\"gridcolor\":\"white\",\"linecolor\":\"white\",\"showbackground\":true,\"ticks\":\"\",\"zerolinecolor\":\"white\",\"gridwidth\":2},\"zaxis\":{\"backgroundcolor\":\"#E5ECF6\",\"gridcolor\":\"white\",\"linecolor\":\"white\",\"showbackground\":true,\"ticks\":\"\",\"zerolinecolor\":\"white\",\"gridwidth\":2}},\"shapedefaults\":{\"line\":{\"color\":\"#2a3f5f\"}},\"annotationdefaults\":{\"arrowcolor\":\"#2a3f5f\",\"arrowhead\":0,\"arrowwidth\":1},\"geo\":{\"bgcolor\":\"white\",\"landcolor\":\"#E5ECF6\",\"subunitcolor\":\"white\",\"showland\":true,\"showlakes\":true,\"lakecolor\":\"white\"},\"title\":{\"x\":0.05},\"mapbox\":{\"style\":\"light\"}}},\"xaxis\":{\"anchor\":\"y\",\"domain\":[0.0,1.0],\"title\":{\"text\":\"Dice Value\"}},\"yaxis\":{\"anchor\":\"x\",\"domain\":[0.0,1.0],\"title\":{\"text\":\"count\"}},\"legend\":{\"tracegroupgap\":0},\"title\":{\"text\":\"Dice Roll Frequency\"},\"barmode\":\"relative\"},                        {\"responsive\": true}                    ).then(function(){\n",
       "                            \n",
       "var gd = document.getElementById('ea4c5f4a-f09d-463e-a920-c207b91c4223');\n",
       "var x = new MutationObserver(function (mutations, observer) {{\n",
       "        var display = window.getComputedStyle(gd).display;\n",
       "        if (!display || display === 'none') {{\n",
       "            console.log([gd, 'removed!']);\n",
       "            Plotly.purge(gd);\n",
       "            observer.disconnect();\n",
       "        }}\n",
       "}});\n",
       "\n",
       "// Listen for the removal of the full notebook cells\n",
       "var notebookContainer = gd.closest('#notebook-container');\n",
       "if (notebookContainer) {{\n",
       "    x.observe(notebookContainer, {childList: true});\n",
       "}}\n",
       "\n",
       "// Listen for the clearing of the current output cell\n",
       "var outputEl = gd.closest('.output');\n",
       "if (outputEl) {{\n",
       "    x.observe(outputEl, {childList: true});\n",
       "}}\n",
       "\n",
       "                        })                };                            </script>        </div>\n",
       "</body>\n",
       "</html>"
      ]
     },
     "metadata": {},
     "output_type": "display_data"
    }
   ],
   "source": [
    "num_rolls = 100\n",
    "rolls = roll_multiple_times(num_rolls)\n",
    "\n",
    "# Convert the list of rolls into a Pandas DataFrame\n",
    "df = pd.DataFrame(rolls, columns=['Dice Rolls'])\n",
    "\n",
    "# Create a histogram of the dice rolls\n",
    "fig = px.histogram(df, x='Dice Rolls', title='Dice Roll Frequency',\n",
    "                   labels={'Dice Rolls': 'Dice Value'}, nbins=6)\n",
    "\n",
    "# Show the histogram\n",
    "fig.show()"
   ]
  },
  {
   "cell_type": "code",
   "execution_count": 3,
   "metadata": {
    "colab": {
     "base_uri": "https://localhost:8080/",
     "height": 542
    },
    "id": "5FZ6tktFQ1p8",
    "outputId": "fa3a0971-706d-4146-ba47-4f37bed0c117"
   },
   "outputs": [
    {
     "ename": "NameError",
     "evalue": "name 'df' is not defined",
     "output_type": "error",
     "traceback": [
      "\u001b[1;31m---------------------------------------------------------------------------\u001b[0m",
      "\u001b[1;31mNameError\u001b[0m                                 Traceback (most recent call last)",
      "Cell \u001b[1;32mIn[3], line 4\u001b[0m\n\u001b[0;32m      1\u001b[0m \u001b[38;5;28;01mimport\u001b[39;00m \u001b[38;5;21;01mplotly\u001b[39;00m\u001b[38;5;21;01m.\u001b[39;00m\u001b[38;5;21;01mexpress\u001b[39;00m \u001b[38;5;28;01mas\u001b[39;00m \u001b[38;5;21;01mpx\u001b[39;00m\n\u001b[0;32m      3\u001b[0m \u001b[38;5;66;03m# Create a histogram of the dice rolls\u001b[39;00m\n\u001b[1;32m----> 4\u001b[0m fig \u001b[38;5;241m=\u001b[39m px\u001b[38;5;241m.\u001b[39mhistogram(\u001b[43mdf\u001b[49m, x\u001b[38;5;241m=\u001b[39m\u001b[38;5;124m'\u001b[39m\u001b[38;5;124mDice Rolls\u001b[39m\u001b[38;5;124m'\u001b[39m, title\u001b[38;5;241m=\u001b[39m\u001b[38;5;124m'\u001b[39m\u001b[38;5;124mDice Roll Frequency\u001b[39m\u001b[38;5;124m'\u001b[39m,\n\u001b[0;32m      5\u001b[0m                    labels\u001b[38;5;241m=\u001b[39m{\u001b[38;5;124m'\u001b[39m\u001b[38;5;124mDice Rolls\u001b[39m\u001b[38;5;124m'\u001b[39m: \u001b[38;5;124m'\u001b[39m\u001b[38;5;124mDice Value\u001b[39m\u001b[38;5;124m'\u001b[39m}, nbins\u001b[38;5;241m=\u001b[39m\u001b[38;5;241m6\u001b[39m)  \u001b[38;5;66;03m# 6 bins for 6 dice values\u001b[39;00m\n\u001b[0;32m      7\u001b[0m \u001b[38;5;66;03m# Show the plot\u001b[39;00m\n\u001b[0;32m      8\u001b[0m fig\u001b[38;5;241m.\u001b[39mshow()\n",
      "\u001b[1;31mNameError\u001b[0m: name 'df' is not defined"
     ]
    }
   ],
   "source": [
    "import plotly.express as px\n",
    "\n",
    "# Create a histogram of the dice rolls\n",
    "fig = px.histogram(df, x='Dice Rolls', title='Dice Roll Frequency',\n",
    "                   labels={'Dice Rolls': 'Dice Value'}, nbins=6)  # 6 bins for 6 dice values\n",
    "\n",
    "# Show the plot\n",
    "fig.show()\n"
   ]
  },
  {
   "cell_type": "code",
   "execution_count": null,
   "metadata": {},
   "outputs": [],
   "source": []
  }
 ],
 "metadata": {
  "colab": {
   "provenance": []
  },
  "kernelspec": {
   "display_name": "Python 3",
   "name": "python3"
  },
  "language_info": {
   "codemirror_mode": {
    "name": "ipython",
    "version": 3
   },
   "file_extension": ".py",
   "mimetype": "text/x-python",
   "name": "python",
   "nbconvert_exporter": "python",
   "pygments_lexer": "ipython3",
   "version": "3.12.7"
  }
 },
 "nbformat": 4,
 "nbformat_minor": 0
}
